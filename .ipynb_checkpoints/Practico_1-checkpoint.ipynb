{
 "cells": [
  {
   "cell_type": "markdown",
   "metadata": {
    "collapsed": true,
    "pycharm": {
     "name": "#%% md\n"
    }
   },
   "source": [
    "# Practico 1 - Aprendizaje Profundo\n",
    "\n",
    "Alumnos:\n",
    "* Milagros Avila\n",
    "* Juan Porta\n",
    "* Ignacio Scarinci\n",
    "\n",
    "Se hicieron dos pipeline: uno para el ajuste de los distintos modelos **practico_1_train_petfinder_modelos.py** y otro para la busqueda de hiperparametros **practico_1_train_petfinder_busqueda.py**"
   ]
  },
  {
   "cell_type": "code",
   "execution_count": 2,
   "metadata": {
    "pycharm": {
     "is_executing": false,
     "name": "#%%\n"
    }
   },
   "outputs": [],
   "source": [
    "import pandas as pd"
   ]
  },
  {
   "cell_type": "code",
   "execution_count": 3,
   "metadata": {
    "pycharm": {
     "is_executing": false,
     "name": "#%%\n"
    }
   },
   "outputs": [],
   "source": [
    "res_mod_1 = pd.read_csv('./resultados_modelo1.csv')\n",
    "res_mod_2 = pd.read_csv('./resultados_modelo2.csv')\n",
    "res_mod_3 = pd.read_csv('./resultados_modelo3.csv')\n",
    "res_mod_4 = pd.read_csv('./resultados_modelo4.csv')\n"
   ]
  },
  {
   "cell_type": "markdown",
   "metadata": {
    "pycharm": {
     "is_executing": false,
     "name": "#%% md\n"
    }
   },
   "source": [
    "Se probaron 4 modelos que se pueden ver en la siguiente figura:\n",
    "\n",
    "**Modelo 1:**\n",
    "![Modelo 1](modelo_1.png)\n",
    "\n",
    "**Modelo 2:**\n",
    "![Modelo 2](modelo_2.png)\n",
    "\n",
    "**Modelo 3:**\n",
    "![Modelo 3](modelo_3.png)\n",
    "\n",
    "**Modelo 4:**\n",
    "![Modelo 4](modelo_4.png)\n",
    "\n",
    "Implementación de los modelos en pyhton\n",
    "\n",
    "```python\n",
    "\n",
    "modelo = args.modelo #Se pasa como argumento al pipeline el número de modelo a experimentar\n",
    "\n",
    "if modelo == 1:\n",
    "    dense1 = layers.Dense(100,activation='relu')(features)\n",
    "    dense_ = layers.Dense(100,activation='relu')(dense1)\n",
    "elif modelo == 2:\n",
    "    bn = layers.BatchNormalization(momentum=0)(features)\n",
    "    dense1 = layers.Dense(80,activation='relu')(bn)\n",
    "    dropout_1 = layers.Dropout(0.5)(dense1)\n",
    "    dense2 = layers.Dense(100,activation='relu')(dropout_1)\n",
    "    dense_ = layers.Dense(100,activation='relu')(dense2)\n",
    "elif modelo == 3:\n",
    "    dense1 = layers.Dense(80,activation='relu')(features)\n",
    "    dense2 = layers.Dense(100,activation='relu')(dense1)\n",
    "    dropout_1 = layers.Dropout(0.5)(dense2)\n",
    "    dense_ = layers.Dense(100,activation='relu')(dropout_1)\n",
    "elif modelo == 4:\n",
    "    bn = layers.BatchNormalization(momentum=0)(features)\n",
    "    dense1 = layers.Dense(80,activation='relu')(bn)\n",
    "    dense2 = layers.Dense(90,activation='relu')(dense1)\n",
    "    dropout_1 = layers.Dropout(0.2)(dense2)\n",
    "    dense2 = layers.Dense(90,activation='relu')(dropout_1)\n",
    "    dropout_2 = layers.Dropout(0.2)(dense2)\n",
    "    dense_ = layers.Dense(90,activation='relu')(dropout_2)\n",
    "\n",
    "output_layer = layers.Dense(nlabels, activation='softmax')(dense_)\n",
    "\n",
    "model = models.Model(inputs=inputs, outputs=output_layer)\n",
    "\n",
    "optimizador = tf.keras.optimizers.Adam(learning_rate=1e-4)\n",
    "model.compile(loss='categorical_crossentropy', optimizer=optimizador,\n",
    "              metrics=['accuracy'])\n",
    "```"
   ]
  },
  {
   "cell_type": "markdown",
   "metadata": {
    "pycharm": {
     "name": "#%% md\n"
    }
   },
   "source": [
    "Además se probaron 3 combinaciones de feactures para cada modelo."
   ]
  },
  {
   "cell_type": "code",
   "execution_count": 4,
   "metadata": {
    "pycharm": {
     "is_executing": false,
     "name": "#%%\n"
    }
   },
   "outputs": [
    {
     "name": "stdout",
     "output_type": "stream",
     "text": [
      "Combinación 1:\n",
      "Embedded columns = {'Breed1': 308}\n",
      "One hot columns = {'Gender': 3, 'Color1': 7}\n",
      "Numerical columns = ['Age', 'Fee']\n",
      "\n",
      "Combinación 2:\n",
      "Embedded columns = {'Breed1': 308, 'Breed2': 308}\n",
      "One hot columns = {'Gender': 3, 'Color1': 7, 'Type': 2, 'MaturitySize': 4, 'Sterilized': 3}\n",
      "Numerical columns = ['Age', 'Fee']\n",
      "\n",
      "Combinación 3:\n",
      "Embedded columns = {'Breed1': 308, 'Breed2': 308}\n",
      "One hot columns = {'Gender': 3, 'Color1': 7, 'Color2': 7, 'Color3': 7, 'Type': 2, 'MaturitySize': 4, 'Sterilized': 3, 'Vaccinated': 3, 'Health': 3}\n",
      "Numerical columns = ['Age', 'Fee']\n"
     ]
    }
   ],
   "source": [
    "print('Combinación 1:')\n",
    "\n",
    "print('Embedded columns =', res_mod_1['embedded_columns'][2])\n",
    "print('One hot columns =', res_mod_1['one_hot_columns'][2])\n",
    "print('Numerical columns =', res_mod_1['numerical_columns'][2])\n",
    "\n",
    "print('\\nCombinación 2:')\n",
    "\n",
    "print('Embedded columns =', res_mod_1['embedded_columns'][1])\n",
    "print('One hot columns =', res_mod_1['one_hot_columns'][1])\n",
    "print('Numerical columns =', res_mod_1['numerical_columns'][1])\n",
    "\n",
    "print('\\nCombinación 3:')\n",
    "\n",
    "print('Embedded columns =', res_mod_1['embedded_columns'][0])\n",
    "print('One hot columns =', res_mod_1['one_hot_columns'][0])\n",
    "print('Numerical columns =', res_mod_1['numerical_columns'][0])"
   ]
  },
  {
   "cell_type": "markdown",
   "metadata": {
    "pycharm": {
     "name": "#%% md\n"
    }
   },
   "source": [
    "Resultados obtenidos para cada modelo y combinacón de feactures"
   ]
  },
  {
   "cell_type": "code",
   "execution_count": 5,
   "metadata": {
    "pycharm": {
     "is_executing": false,
     "name": "#%%\n"
    }
   },
   "outputs": [
    {
     "name": "stdout",
     "output_type": "stream",
     "text": [
      "Modelo 1 Combinación 1 \n",
      " Accuracy:0.35369167 \n",
      " Accuracy Validation:0.30751059999999997 \n",
      " Loss:1.4103189689199107 \n",
      " Validation Loss:1.4462323758139541 \n",
      "\n",
      "Modelo 1 Combinación 2 \n",
      " Accuracy:0.39586532 \n",
      " Accuracy Validation:0.36183277 \n",
      " Loss:1.3539928544433737 \n",
      " Validation Loss:1.40839139027382 \n",
      "\n",
      "Modelo 1 Combinación 3 \n",
      " Accuracy:0.40732428 \n",
      " Accuracy Validation:0.3490789 \n",
      " Loss:1.340043658838424 \n",
      " Validation Loss:1.411627228580304 \n",
      "\n",
      "========================================\n",
      "Modelo 2 Combinación 1 \n",
      " Accuracy:0.33585352 \n",
      " Accuracy Validation:0.31743032 \n",
      " Loss:1.4208604594059968 \n",
      " Validation Loss:1.4673980421094752 \n",
      "\n",
      "Modelo 2 Combinación 2 \n",
      " Accuracy:0.38133490000000003 \n",
      " Accuracy Validation:0.34246576 \n",
      " Loss:1.3703482021753137 \n",
      " Validation Loss:1.4340022072863223 \n",
      "\n",
      "Modelo 2 Combinación 3 \n",
      " Accuracy:0.37991729999999996 \n",
      " Accuracy Validation:0.35144073 \n",
      " Loss:1.365807772795265 \n",
      " Validation Loss:1.4579491223861922 \n",
      "\n",
      "========================================\n",
      "Modelo 3 Combinación 1 \n",
      " Accuracy:0.33479032 \n",
      " Accuracy Validation:0.322154 \n",
      " Loss:1.4278766784735566 \n",
      " Validation Loss:1.4358861001569834 \n",
      "\n",
      "Modelo 3 Combinación 2 \n",
      " Accuracy:0.38298878 \n",
      " Accuracy Validation:0.35002363 \n",
      " Loss:1.3773347755613512 \n",
      " Validation Loss:1.4123743381073226 \n",
      "\n",
      "Modelo 3 Combinación 3 \n",
      " Accuracy:0.37696397 \n",
      " Accuracy Validation:0.34246576 \n",
      " Loss:1.3774496238751308 \n",
      " Validation Loss:1.4148479646711207 \n",
      "\n",
      "========================================\n",
      "Modelo 4 Combinación 1 \n",
      " Accuracy:0.34187832 \n",
      " Accuracy Validation:0.32026452 \n",
      " Loss:1.4435921307928241 \n",
      " Validation Loss:1.4829656045828292 \n",
      "\n",
      "Modelo 4 Combinación 2 \n",
      " Accuracy:0.39397519999999997 \n",
      " Accuracy Validation:0.3405763 \n",
      " Loss:1.3963814637820111 \n",
      " Validation Loss:1.5004503637997073 \n",
      "\n",
      "Modelo 4 Combinación 1 \n",
      " Accuracy:0.40614295 \n",
      " Accuracy Validation:0.35852623 \n",
      " Loss:1.3878657207077802 \n",
      " Validation Loss:1.5061189825855084 \n",
      "\n"
     ]
    }
   ],
   "source": [
    "for i in range(2,-1,-1):\n",
    "    print('{} \\n Accuracy:{} \\n Accuracy Validation:{} \\n Loss:{} \\n Validation Loss:{} \\n'.format(res_mod_1['Name'][i],\n",
    "                                                                                            res_mod_1['accuracy'][i],\n",
    "                                                                                            res_mod_1['val_accuracy'][i], \n",
    "                                                                                            res_mod_1['loss'][i],\n",
    "                                                                                            res_mod_1['val_loss'][i]))\n",
    "print('========================================')\n",
    "    \n",
    "for i in range(2,-1,-1):\n",
    "    print('{} \\n Accuracy:{} \\n Accuracy Validation:{} \\n Loss:{} \\n Validation Loss:{} \\n'.format(res_mod_2['Name'][i],\n",
    "                                                                                            res_mod_2['accuracy'][i],\n",
    "                                                                                            res_mod_2['val_accuracy'][i], \n",
    "                                                                                            res_mod_2['loss'][i],\n",
    "                                                                                            res_mod_2['val_loss'][i]))\n",
    "print('========================================')\n",
    "for i in range(2,-1,-1):\n",
    "    print('{} \\n Accuracy:{} \\n Accuracy Validation:{} \\n Loss:{} \\n Validation Loss:{} \\n'.format(res_mod_3['Name'][i],\n",
    "                                                                                            res_mod_3['accuracy'][i],\n",
    "                                                                                            res_mod_3['val_accuracy'][i], \n",
    "                                                                                            res_mod_3['loss'][i],\n",
    "                                                                                            res_mod_3['val_loss'][i]))\n",
    "print('========================================')\n",
    "for i in range(2,-1,-1):\n",
    "    print('{} \\n Accuracy:{} \\n Accuracy Validation:{} \\n Loss:{} \\n Validation Loss:{} \\n'.format(res_mod_4['Name'][i],\n",
    "                                                                                            res_mod_4['accuracy'][i],\n",
    "                                                                                            res_mod_4['val_accuracy'][i], \n",
    "                                                                                            res_mod_4['loss'][i],\n",
    "                                                                                            res_mod_4['val_loss'][i]))"
   ]
  },
  {
   "cell_type": "markdown",
   "metadata": {},
   "source": [
    "Las siguientes imágenes muestran en un grafico paralelo el efecto de agregar features \n",
    "\n",
    "**Modelo 1**\n",
    "![Modelo1_features](modelo_1_features.png)\n",
    "\n",
    "**Modelo 2**\n",
    "![Modelo2_features](modelo_2_features.png)\n",
    "\n",
    "**Modelo 3**\n",
    "![Modelo3_features](modelo_3_features.png)\n",
    "\n",
    "**Modelo 4**\n",
    "![Modelo4_features](modelo_4_features.png)\n",
    "\n",
    "Como se puede ver en los modelos 1, 3 y 4 cuando se agregan feactures mejora el accuracy y baja la perdida. En el modelo 2 no ocurre este fenomeno. \n",
    "\n",
    "Dado que mejora en la mayoria de los casos el accuracy se deside realizar la bsqueda de los hiperparametros optimos utilizando la combinacion de feactures denominada 3."
   ]
  },
  {
   "cell_type": "markdown",
   "metadata": {},
   "source": [
    "### Hiperparametros optimos\n",
    "\n",
    "Se realizo una bsqueda Bayesiana del valor optimo para el númeoro de neuronas para cada capa, el valor de dropout para cada capa de dropout, la tasa de aprendizaje y el número de epocas.\n",
    "\n",
    "Para la busqueda de los valores optimos se utilizo como parametro el accuracy *(-1)\n",
    "\n",
    "Dado que se buscaba el menor accuracy en algunos casos cuando se usaban los parametros optimos no se optenian buenos resultados se muestran los resulados para los parametros con mejor accuracy durante la busqueda y los de menor perdida."
   ]
  },
  {
   "cell_type": "markdown",
   "metadata": {
    "pycharm": {
     "name": "#%% md\n"
    }
   },
   "source": [
    "#### Modelo 1:\n",
    "\n",
    "**Mejor accuracy:** \n",
    "*  epochs:25\n",
    "*  hidden_layer_1:65\n",
    "*  hidden_layer_2:65\n",
    "*  learning_rate:0.0001\n",
    "\n",
    "<div>\n",
    "<img src=\"modelo_1_optimo_acc_acc.png\" width=\"500\"/> \n",
    "<img src=\"modelo_1_optimo_loss_acc.png\" width=\"500\"/>\n",
    "</div>\n",
    "\n",
    "\n",
    "Resultados:\n",
    "*  accuracy:0.405\n",
    "*  loss:1.34\n",
    "*  val_accuracy:0.355\n",
    "*  val_loss:1.412\n",
    "\n",
    "\n",
    "**Menor loss:**\n",
    "*  epochs:25\n",
    "*  hidden_layer_1:130\n",
    "*  hidden_layer_2:65\n",
    "*  learning_rate:0.0001\n",
    "\n",
    "\n",
    "<div>\n",
    "<img src=\"modelo_1_optimo_acc_loss.png\" width=\"500\"/> \n",
    "<img src=\"modelo_1_optimo_loss_loss.png\" width=\"500\"/>\n",
    "</div>\n",
    "\n",
    "Resultados\n",
    "*  accuracy:0.41\n",
    "*  loss:1.324\n",
    "*  val_accuracy:0.362\n",
    "*  val_loss:1.394\n"
   ]
  },
  {
   "cell_type": "markdown",
   "metadata": {},
   "source": [
    "#### Modelo 2:\n",
    "\n",
    "**Mejor accuracy:**\n",
    "    \n",
    "*  epochs: 35\n",
    "*  hidden_layer_1: 72\n",
    "*  hidden_layer_2: 125\n",
    "*  hidden_layer_3: 83\n",
    "*  dropout_1: 0.486\n",
    "*  learning_rate:0.000978\n",
    "\n",
    "<div>\n",
    "<img src=\"modelo_2_optimo_acc_acc.png\" width=\"500\"/> \n",
    "<img src=\"modelo_2_optimo_loss_acc.png\" width=\"500\"/>\n",
    "</div>\n",
    "\n",
    "\n",
    "Resultados:\n",
    "*  accuracy:0.44\n",
    "*  loss:1.233\n",
    "*  val_accuracy:0.357\n",
    "*  val_loss:1.713\n",
    "\n",
    "\n",
    "**Menor loss:**\n",
    "*  epochs:25\n",
    "*  hidden_layer_1:65\n",
    "*  hidden_layer_2:65\n",
    "*  hidden_layer_2:130\n",
    "*  dropout_1: 0.499\n",
    "*  learning_rate:0.0001\n",
    "\n",
    "\n",
    "<div>\n",
    "<img src=\"modelo_2_optimo_acc_loss.png\" width=\"500\"/> \n",
    "<img src=\"modelo_2_optimo_loss_loss.png\" width=\"500\"/>\n",
    "</div>\n",
    "\n",
    "Resultados\n",
    "*  accuracy:0.394\n",
    "*  loss:1.357\n",
    "*  val_accuracy:0.332\n",
    "*  val_loss:1.527\n",
    "\n",
    "\n",
    "\n"
   ]
  },
  {
   "cell_type": "markdown",
   "metadata": {},
   "source": [
    "#### Modelo 3:\n",
    "\n",
    "**Mejor accuracy:**\n",
    "    \n",
    "*  epochs: 25\n",
    "*  hidden_layer_1: 84\n",
    "*  hidden_layer_2: 130\n",
    "*  hidden_layer_3: 65\n",
    "*  dropout_1: 0.4999\n",
    "*  learning_rate:0.0001\n",
    "\n",
    "<div>\n",
    "<img src=\"modelo_3_optimo_acc_acc.png\" width=\"500\"/> \n",
    "<img src=\"modelo_3_optimo_loss_acc.png\" width=\"500\"/>\n",
    "</div>\n",
    "\n",
    "\n",
    "Resultados:\n",
    "*  accuracy:0.382\n",
    "*  loss:1.364\n",
    "*  val_accuracy:0.366\n",
    "*  val_loss:1.401\n",
    "\n",
    "\n",
    "**Menor loss:**\n",
    "*  epochs:32\n",
    "*  hidden_layer_1:65\n",
    "*  hidden_layer_2:130\n",
    "*  hidden_layer_2:130\n",
    "*  dropout_1: 0.01\n",
    "*  learning_rate:0.0001\n",
    "\n",
    "\n",
    "<div>\n",
    "<img src=\"modelo_3_optimo_acc_loss.png\" width=\"500\"/> \n",
    "<img src=\"modelo_3_optimo_loss_loss.png\" width=\"500\"/>\n",
    "</div>\n",
    "\n",
    "Resultados\n",
    "*  accuracy:0.432\n",
    "*  loss:1.292\n",
    "*  val_accuracy:0.347\n",
    "*  val_loss:1.425\n"
   ]
  },
  {
   "cell_type": "markdown",
   "metadata": {},
   "source": [
    "#### Modelo 4:\n",
    "\n",
    "**Mejor accuracy:**\n",
    "    \n",
    "*  epochs: 25\n",
    "*  hidden_layer_1: 130\n",
    "*  hidden_layer_2: 65\n",
    "*  hidden_layer_3: 130\n",
    "*  hidden_layer_4: 130\n",
    "*  hidden_layer_5: 130\n",
    "*  dropout_1: 0.4999\n",
    "*  dropout_1: 0.01\n",
    "*  learning_rate:0.0001\n",
    "\n",
    "<div>\n",
    "<img src=\"modelo_4_optimo_acc_acc.png\" width=\"500\"/> \n",
    "<img src=\"modelo_4_optimo_loss_acc.png\" width=\"500\"/>\n",
    "</div>\n",
    "\n",
    "\n",
    "Resultados:\n",
    "*  accuracy: 0.4\n",
    "*  loss: 1.377\n",
    "*  val_accuracy: 0.357\n",
    "*  val_loss: 1.524\n",
    "\n",
    "\n",
    "**Menor loss:**\n",
    "\n",
    "*  epochs: 25\n",
    "*  hidden_layer_1: 130\n",
    "*  hidden_layer_2: 65\n",
    "*  hidden_layer_3: 130\n",
    "*  hidden_layer_4: 130\n",
    "*  hidden_layer_5: 130\n",
    "*  dropout_1: 0.4999\n",
    "*  dropout_1: 0.4999\n",
    "*  learning_rate:0.0001\n",
    "\n",
    "<div>\n",
    "<img src=\"modelo_4_optimo_acc_loss.png\" width=\"500\"/> \n",
    "<img src=\"modelo_4_optimo_loss_loss.png\" width=\"500\"/>\n",
    "</div>\n",
    "\n",
    "Resultados\n",
    "*  accuracy:0.376\n",
    "*  loss:1.406\n",
    "*  val_accuracy:0.359\n",
    "*  val_loss:1.505\n"
   ]
  },
  {
   "cell_type": "markdown",
   "metadata": {},
   "source": [
    "### Conclusiones \n",
    "\n",
    "* 3 capas sin regularizacion o dropout se overfitiaba\n",
    "* El modelo que da mejores resultados es el modelo 3 "
   ]
  },
  {
   "cell_type": "code",
   "execution_count": null,
   "metadata": {},
   "outputs": [],
   "source": []
  }
 ],
 "metadata": {
  "kernelspec": {
   "display_name": "Python 3",
   "language": "python",
   "name": "python3"
  },
  "language_info": {
   "codemirror_mode": {
    "name": "ipython",
    "version": 3
   },
   "file_extension": ".py",
   "mimetype": "text/x-python",
   "name": "python",
   "nbconvert_exporter": "python",
   "pygments_lexer": "ipython3",
   "version": "3.7.5"
  },
  "pycharm": {
   "stem_cell": {
    "cell_type": "raw",
    "metadata": {
     "collapsed": false
    },
    "source": []
   }
  }
 },
 "nbformat": 4,
 "nbformat_minor": 1
}
